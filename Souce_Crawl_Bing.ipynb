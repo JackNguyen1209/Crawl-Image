{
  "nbformat": 4,
  "nbformat_minor": 0,
  "metadata": {
    "colab": {
      "name": "Souce_Crawl Bing.ipynb",
      "provenance": [],
      "collapsed_sections": [],
      "toc_visible": true,
      "mount_file_id": "16xmGo9pemYNxrhh7qXupSRhYEG9WW77G",
      "authorship_tag": "ABX9TyO6CSzAkDa837B8O8yxWTrZ",
      "include_colab_link": true
    },
    "kernelspec": {
      "name": "python3",
      "display_name": "Python 3"
    }
  },
  "cells": [
    {
      "cell_type": "markdown",
      "metadata": {
        "id": "view-in-github",
        "colab_type": "text"
      },
      "source": [
        "<a href=\"https://colab.research.google.com/github/JackNguyen1209/Crawl-Image/blob/main/Souce_Crawl_Bing.ipynb\" target=\"_parent\"><img src=\"https://colab.research.google.com/assets/colab-badge.svg\" alt=\"Open In Colab\"/></a>"
      ]
    },
    {
      "cell_type": "markdown",
      "metadata": {
        "id": "quNcUp5fbbI8"
      },
      "source": [
        "#Import Library"
      ]
    },
    {
      "cell_type": "code",
      "metadata": {
        "colab": {
          "base_uri": "https://localhost:8080/"
        },
        "id": "Q4x5Nj48d22g",
        "outputId": "fd835e4f-b40a-416c-bb92-fad917631b4e"
      },
      "source": [
        "!pip install bing-image-downloader\n",
        "from bing_image_downloader import downloader"
      ],
      "execution_count": 14,
      "outputs": [
        {
          "output_type": "stream",
          "text": [
            "Requirement already satisfied: bing-image-downloader in /usr/local/lib/python3.7/dist-packages (1.0.4)\n"
          ],
          "name": "stdout"
        }
      ]
    },
    {
      "cell_type": "markdown",
      "metadata": {
        "id": "4VH4yNKEbewc"
      },
      "source": [
        "#Download Image from BING\n",
        "query_name : Keyword Search\n",
        "\n",
        "limit_num: number of images you want to download\n",
        "\n",
        "out_dir: directory of image"
      ]
    },
    {
      "cell_type": "code",
      "metadata": {
        "id": "viKuYq-qeE7V"
      },
      "source": [
        "query_name = 'Apple'\n",
        "limit_num  = 100\n",
        "out_dir    = '/content'\n",
        "\n",
        "downloader.download(query_name, limit=limit_num,  output_dir=out_dir, adult_filter_off=True, force_replace=False, timeout=60)"
      ],
      "execution_count": null,
      "outputs": []
    }
  ]
}