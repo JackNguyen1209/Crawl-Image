{
  "nbformat": 4,
  "nbformat_minor": 0,
  "metadata": {
    "colab": {
      "name": "Extract Image from Video",
      "provenance": [],
      "collapsed_sections": [],
      "mount_file_id": "1qD66WCP-eDPQYPAsODb77ehet8_EhgGF",
      "authorship_tag": "ABX9TyPh91lJjNDwMvE2EnEHeMa5",
      "include_colab_link": true
    },
    "kernelspec": {
      "name": "python3",
      "display_name": "Python 3"
    },
    "language_info": {
      "name": "python"
    },
    "accelerator": "GPU"
  },
  "cells": [
    {
      "cell_type": "markdown",
      "metadata": {
        "id": "view-in-github",
        "colab_type": "text"
      },
      "source": [
        "<a href=\"https://colab.research.google.com/github/JackNguyen1209/Crawl-Image/blob/main/Extract_Image_from_Video.ipynb\" target=\"_parent\"><img src=\"https://colab.research.google.com/assets/colab-badge.svg\" alt=\"Open In Colab\"/></a>"
      ]
    },
    {
      "cell_type": "markdown",
      "metadata": {
        "id": "1aBlBkTdXsZ-"
      },
      "source": [
        "#Import library"
      ]
    },
    {
      "cell_type": "code",
      "metadata": {
        "id": "wRC615u-axb5"
      },
      "source": [
        "from IPython.display import HTML\n",
        "from base64 import b64encode\n",
        "import os\n",
        "import cv2\n",
        "import numpy as np\n",
        "import matplotlib.pyplot as plt"
      ],
      "execution_count": null,
      "outputs": []
    },
    {
      "cell_type": "markdown",
      "metadata": {
        "id": "fRdMrLSLX_ZG"
      },
      "source": [
        "#Set Source video and Directory\n",
        "global idx\n",
        "\n",
        "video_path\n",
        "\n",
        "destination: folder where you want to save image to"
      ]
    },
    {
      "cell_type": "code",
      "metadata": {
        "id": "LXhdYY_ZX2T8"
      },
      "source": [
        "###\n",
        "idx=0\n",
        "video_path='video_needs_extract.mp4'\n",
        "destination='/content/drive/MyDrive/Location_of_image'\n",
        "###"
      ],
      "execution_count": null,
      "outputs": []
    },
    {
      "cell_type": "markdown",
      "metadata": {
        "id": "ILO2NXLpYXrT"
      },
      "source": [
        "#Excecute Program\n",
        "\n",
        "Frame name: \"Images_<idx>.jpg\""
      ]
    },
    {
      "cell_type": "code",
      "metadata": {
        "id": "LTwcvJvlX4MW"
      },
      "source": [
        "def Video2Image(path,des):\n",
        "  global idx\n",
        "  cap=cv2.VideoCapture(path)\n",
        "  while(True):\n",
        "    ret, frame = cap.read()\n",
        "    print(idx)\n",
        "    tok=des+'/Images_'+str(idx)+'.jpg'\n",
        "    idx += 1\n",
        "    if not ret:\n",
        "        print('Stopped reading the video (%s)' % video_path)\n",
        "        break\n",
        "    cv2.imwrite(tok,frame)\n",
        "\n",
        "Video2Image(video_path,destination)"
      ],
      "execution_count": null,
      "outputs": []
    }
  ]
}