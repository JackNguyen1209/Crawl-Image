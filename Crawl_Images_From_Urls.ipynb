{
  "nbformat": 4,
  "nbformat_minor": 0,
  "metadata": {
    "colab": {
      "name": "Crawl_Images_From_Urls",
      "provenance": [],
      "collapsed_sections": [],
      "toc_visible": true,
      "mount_file_id": "1DudPu3jd3_1MMgyNR1HQKNoUteY_6SZu",
      "authorship_tag": "ABX9TyNc446ec7uzMQEtCu+U+FT+",
      "include_colab_link": true
    },
    "kernelspec": {
      "name": "python3",
      "display_name": "Python 3"
    },
    "language_info": {
      "name": "python"
    },
    "accelerator": "GPU"
  },
  "cells": [
    {
      "cell_type": "markdown",
      "metadata": {
        "id": "view-in-github",
        "colab_type": "text"
      },
      "source": [
        "<a href=\"https://colab.research.google.com/github/JackNguyen1209/Crawl-Image/blob/main/Crawl_Images_From_Urls.ipynb\" target=\"_parent\"><img src=\"https://colab.research.google.com/assets/colab-badge.svg\" alt=\"Open In Colab\"/></a>"
      ]
    },
    {
      "cell_type": "markdown",
      "metadata": {
        "id": "TjmreZk4hE2l"
      },
      "source": [
        "#Import Libraries"
      ]
    },
    {
      "cell_type": "code",
      "metadata": {
        "id": "I77ygQ9R0MrA"
      },
      "source": [
        "import cv2\n",
        "import os\n",
        "import requests\n",
        "import matplotlib.pyplot as plt\n",
        "import urllib.request"
      ],
      "execution_count": 1,
      "outputs": []
    },
    {
      "cell_type": "markdown",
      "metadata": {
        "id": "MkRL34R9j8Sh"
      },
      "source": [
        "#Get Urls from file .txt\n",
        "\n",
        "link_path: Source .txt file"
      ]
    },
    {
      "cell_type": "code",
      "metadata": {
        "id": "rQIdt0p6j7pp"
      },
      "source": [
        "url=[]\n",
        "link_path='/content/Link.txt'\n",
        "\n",
        "def GetAllUrl(path):\n",
        "  file=open(path,'r')\n",
        "  while(True):\n",
        "    data=file.readline()\n",
        "    if(data==''):\n",
        "      break\n",
        "    url.append(data)\n",
        "GetAllUrl(link_path)"
      ],
      "execution_count": 2,
      "outputs": []
    },
    {
      "cell_type": "markdown",
      "metadata": {
        "id": "zRHRrr_Asvsu"
      },
      "source": [
        "#Download Image From Urls"
      ]
    },
    {
      "cell_type": "markdown",
      "metadata": {
        "id": "BK0BIwKHlzsd"
      },
      "source": [
        "img_path_dir: folder where you want to save image\n",
        "\n",
        "idx:\n",
        "\n",
        "Image name: \"Image_<idx>.jpg\""
      ]
    },
    {
      "cell_type": "code",
      "metadata": {
        "id": "2o80hq6lx0JL",
        "colab": {
          "base_uri": "https://localhost:8080/"
        },
        "outputId": "066064f4-0876-4843-f4ad-def5927a6f80"
      },
      "source": [
        "idx=0\n",
        "img_path_dir='/content/Download_Dir'\n",
        "\n",
        "def Crawl(image_path):\n",
        "  start_index=0\n",
        "  global idx\n",
        "  for i in range(0,len(url)):\n",
        "    try:\n",
        "      print(idx)\n",
        "      imgURL = url[i]\n",
        "      token = image_path+'/Img_'+str(idx)+'.jpg'\n",
        "      idx+=1\n",
        "      # Adding information about user agent\n",
        "      opener=urllib.request.build_opener()\n",
        "      opener.addheaders=[('User-Agent','Mozilla/5.0 (Windows NT 6.1; WOW64) AppleWebKit/537.36 (KHTML, like Gecko) Chrome/36.0.1941.0 Safari/537.36')]\n",
        "      urllib.request.install_opener(opener)\n",
        "      # calling urlretrieve function to get resource\n",
        "      urllib.request.urlretrieve(imgURL, token)\n",
        "      try:\n",
        "            start_index += 1\n",
        "      except:\n",
        "            print('[DELETE] Image has no contents -', i)\n",
        "    except:\n",
        "        print('[ERROR] Failed to request -', i, '-', url[i])\n",
        "\n",
        "Crawl(img_path_dir)"
      ],
      "execution_count": 3,
      "outputs": [
        {
          "output_type": "stream",
          "text": [
            "0\n",
            "[ERROR] Failed to request - 0 - data:image/jpeg;base64,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\n"
          ],
          "name": "stdout"
        }
      ]
    }
  ]
}